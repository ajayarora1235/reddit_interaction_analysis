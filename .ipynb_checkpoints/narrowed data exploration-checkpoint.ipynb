{
 "cells": [
  {
   "cell_type": "code",
   "execution_count": 1,
   "metadata": {},
   "outputs": [],
   "source": [
    "import numpy as np\n",
    "import networkx as nx\n",
    "import pandas as pd\n",
    "import scipy as sp\n",
    "import collections\n",
    "import operator\n",
    "import seaborn as sns\n",
    "import matplotlib.pyplot as plt\n",
    "from scipy.sparse import csr_matrix\n",
    "import networkx.algorithms.community as nx_comm\n",
    "import altair as alt"
   ]
  },
  {
   "cell_type": "code",
   "execution_count": 2,
   "metadata": {},
   "outputs": [],
   "source": [
    "#create adjacency matrix\n",
    "author_list = pd.read_csv('authors.csv')\n",
    "interactions = pd.read_csv('interactions_cleaned.csv')\n",
    "author_sub_counts = pd.read_csv('author_subreddit_counts.csv')"
   ]
  },
  {
   "cell_type": "code",
   "execution_count": 4,
   "metadata": {},
   "outputs": [],
   "source": [
    "a = list(author_list['author'])\n",
    "author_dict = {}\n",
    "for i in range(len(a)):\n",
    "    author_dict[a[i]] = i\n",
    "year_one_actions = interactions[interactions['day'] <= '2020-12-31']\n",
    "year_two_actions = interactions[interactions['day'] >= '2021-01-01']"
   ]
  },
  {
   "cell_type": "code",
   "execution_count": null,
   "metadata": {},
   "outputs": [],
   "source": []
  },
  {
   "cell_type": "code",
   "execution_count": null,
   "metadata": {},
   "outputs": [],
   "source": [
    "#focus on set of 5 RW reddits -- everyone in 2020 is active in at least one of these five\n",
    "political_reddits = [\"politics\", \"Conservative\", \"Republican\", \"tucker_carlson\", \"trump\", \"conservatives\"]"
   ]
  },
  {
   "cell_type": "code",
   "execution_count": null,
   "metadata": {},
   "outputs": [],
   "source": []
  }
 ],
 "metadata": {
  "kernelspec": {
   "display_name": "Python 3",
   "language": "python",
   "name": "python3"
  },
  "language_info": {
   "codemirror_mode": {
    "name": "ipython",
    "version": 3
   },
   "file_extension": ".py",
   "mimetype": "text/x-python",
   "name": "python",
   "nbconvert_exporter": "python",
   "pygments_lexer": "ipython3",
   "version": "3.8.1"
  }
 },
 "nbformat": 4,
 "nbformat_minor": 5
}
